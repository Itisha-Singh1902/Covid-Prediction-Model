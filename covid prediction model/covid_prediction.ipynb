{
  "nbformat": 4,
  "nbformat_minor": 0,
  "metadata": {
    "colab": {
      "name": "covid_prediction",
      "provenance": [],
      "collapsed_sections": []
    },
    "kernelspec": {
      "display_name": "Python 3",
      "name": "python3"
    },
    "language_info": {
      "name": "python"
    }
  },
  "cells": [
    {
      "cell_type": "code",
      "metadata": {
        "id": "Mgb8TxOyYnY7"
      },
      "source": [
        "import pandas as pd\n",
        "import numpy as np\n",
        "import seaborn as sns\n",
        "import matplotlib.pyplot as plt\n",
        "%matplotlib inline\n",
        "import datetime as dt\n",
        "\n"
      ],
      "execution_count": null,
      "outputs": []
    },
    {
      "cell_type": "code",
      "metadata": {
        "id": "QmnHxOdafuFE"
      },
      "source": [
        "df=pd.read_csv('/content/drive/MyDrive/covid_19_india.csv')"
      ],
      "execution_count": null,
      "outputs": []
    },
    {
      "cell_type": "code",
      "metadata": {
        "id": "uVh0BzK8jTdn",
        "colab": {
          "base_uri": "https://localhost:8080/",
          "height": 204
        },
        "outputId": "a75253bb-54f1-41cf-fc94-97a2baad92e3"
      },
      "source": [
        "df.head()"
      ],
      "execution_count": null,
      "outputs": [
        {
          "output_type": "execute_result",
          "data": {
            "text/html": [
              "<div>\n",
              "<style scoped>\n",
              "    .dataframe tbody tr th:only-of-type {\n",
              "        vertical-align: middle;\n",
              "    }\n",
              "\n",
              "    .dataframe tbody tr th {\n",
              "        vertical-align: top;\n",
              "    }\n",
              "\n",
              "    .dataframe thead th {\n",
              "        text-align: right;\n",
              "    }\n",
              "</style>\n",
              "<table border=\"1\" class=\"dataframe\">\n",
              "  <thead>\n",
              "    <tr style=\"text-align: right;\">\n",
              "      <th></th>\n",
              "      <th>Sno</th>\n",
              "      <th>Date</th>\n",
              "      <th>Time</th>\n",
              "      <th>State/UnionTerritory</th>\n",
              "      <th>ConfirmedIndianNational</th>\n",
              "      <th>ConfirmedForeignNational</th>\n",
              "      <th>Cured</th>\n",
              "      <th>Deaths</th>\n",
              "      <th>Confirmed</th>\n",
              "    </tr>\n",
              "  </thead>\n",
              "  <tbody>\n",
              "    <tr>\n",
              "      <th>0</th>\n",
              "      <td>1</td>\n",
              "      <td>2020-01-30</td>\n",
              "      <td>6:00 PM</td>\n",
              "      <td>Kerala</td>\n",
              "      <td>1</td>\n",
              "      <td>0</td>\n",
              "      <td>0</td>\n",
              "      <td>0</td>\n",
              "      <td>1</td>\n",
              "    </tr>\n",
              "    <tr>\n",
              "      <th>1</th>\n",
              "      <td>2</td>\n",
              "      <td>2020-01-31</td>\n",
              "      <td>6:00 PM</td>\n",
              "      <td>Kerala</td>\n",
              "      <td>1</td>\n",
              "      <td>0</td>\n",
              "      <td>0</td>\n",
              "      <td>0</td>\n",
              "      <td>1</td>\n",
              "    </tr>\n",
              "    <tr>\n",
              "      <th>2</th>\n",
              "      <td>3</td>\n",
              "      <td>2020-02-01</td>\n",
              "      <td>6:00 PM</td>\n",
              "      <td>Kerala</td>\n",
              "      <td>2</td>\n",
              "      <td>0</td>\n",
              "      <td>0</td>\n",
              "      <td>0</td>\n",
              "      <td>2</td>\n",
              "    </tr>\n",
              "    <tr>\n",
              "      <th>3</th>\n",
              "      <td>4</td>\n",
              "      <td>2020-02-02</td>\n",
              "      <td>6:00 PM</td>\n",
              "      <td>Kerala</td>\n",
              "      <td>3</td>\n",
              "      <td>0</td>\n",
              "      <td>0</td>\n",
              "      <td>0</td>\n",
              "      <td>3</td>\n",
              "    </tr>\n",
              "    <tr>\n",
              "      <th>4</th>\n",
              "      <td>5</td>\n",
              "      <td>2020-02-03</td>\n",
              "      <td>6:00 PM</td>\n",
              "      <td>Kerala</td>\n",
              "      <td>3</td>\n",
              "      <td>0</td>\n",
              "      <td>0</td>\n",
              "      <td>0</td>\n",
              "      <td>3</td>\n",
              "    </tr>\n",
              "  </tbody>\n",
              "</table>\n",
              "</div>"
            ],
            "text/plain": [
              "   Sno        Date     Time  ... Cured Deaths Confirmed\n",
              "0    1  2020-01-30  6:00 PM  ...     0      0         1\n",
              "1    2  2020-01-31  6:00 PM  ...     0      0         1\n",
              "2    3  2020-02-01  6:00 PM  ...     0      0         2\n",
              "3    4  2020-02-02  6:00 PM  ...     0      0         3\n",
              "4    5  2020-02-03  6:00 PM  ...     0      0         3\n",
              "\n",
              "[5 rows x 9 columns]"
            ]
          },
          "metadata": {},
          "execution_count": 3
        }
      ]
    },
    {
      "cell_type": "code",
      "metadata": {
        "id": "LFS8h63xv-mC",
        "colab": {
          "base_uri": "https://localhost:8080/"
        },
        "outputId": "83a82988-7d8c-4e03-a435-45f54fb7bc50"
      },
      "source": [
        "df.info()"
      ],
      "execution_count": null,
      "outputs": [
        {
          "output_type": "stream",
          "name": "stdout",
          "text": [
            "<class 'pandas.core.frame.DataFrame'>\n",
            "RangeIndex: 18110 entries, 0 to 18109\n",
            "Data columns (total 9 columns):\n",
            " #   Column                    Non-Null Count  Dtype \n",
            "---  ------                    --------------  ----- \n",
            " 0   Sno                       18110 non-null  int64 \n",
            " 1   Date                      18110 non-null  object\n",
            " 2   Time                      18110 non-null  object\n",
            " 3   State/UnionTerritory      18110 non-null  object\n",
            " 4   ConfirmedIndianNational   18110 non-null  object\n",
            " 5   ConfirmedForeignNational  18110 non-null  object\n",
            " 6   Cured                     18110 non-null  int64 \n",
            " 7   Deaths                    18110 non-null  int64 \n",
            " 8   Confirmed                 18110 non-null  int64 \n",
            "dtypes: int64(4), object(5)\n",
            "memory usage: 1.2+ MB\n"
          ]
        }
      ]
    },
    {
      "cell_type": "code",
      "metadata": {
        "id": "3ZB56uLuwBuY"
      },
      "source": [
        "\n",
        "df.columns=df.columns.str.lower()"
      ],
      "execution_count": null,
      "outputs": []
    },
    {
      "cell_type": "code",
      "metadata": {
        "id": "hNb3yKPGj9--"
      },
      "source": [
        "df.rename(columns={'time':'last_update',\n",
        "                    'state/unionterritory':'state/ut',\n",
        "                   'confirmed':'total confirmed'\n",
        "                      },inplace=True)"
      ],
      "execution_count": null,
      "outputs": []
    },
    {
      "cell_type": "code",
      "metadata": {
        "id": "sCw9VkZTRkJX"
      },
      "source": [
        ""
      ],
      "execution_count": null,
      "outputs": []
    },
    {
      "cell_type": "code",
      "metadata": {
        "id": "sRIwdHS_v4GI",
        "colab": {
          "base_uri": "https://localhost:8080/",
          "height": 204
        },
        "outputId": "96ed3c44-2cc2-4587-e3d7-aab3d73f5254"
      },
      "source": [
        "df.head()"
      ],
      "execution_count": null,
      "outputs": [
        {
          "output_type": "execute_result",
          "data": {
            "text/html": [
              "<div>\n",
              "<style scoped>\n",
              "    .dataframe tbody tr th:only-of-type {\n",
              "        vertical-align: middle;\n",
              "    }\n",
              "\n",
              "    .dataframe tbody tr th {\n",
              "        vertical-align: top;\n",
              "    }\n",
              "\n",
              "    .dataframe thead th {\n",
              "        text-align: right;\n",
              "    }\n",
              "</style>\n",
              "<table border=\"1\" class=\"dataframe\">\n",
              "  <thead>\n",
              "    <tr style=\"text-align: right;\">\n",
              "      <th></th>\n",
              "      <th>sno</th>\n",
              "      <th>date</th>\n",
              "      <th>last_update</th>\n",
              "      <th>state/ut</th>\n",
              "      <th>confirmedindiannational</th>\n",
              "      <th>confirmedforeignnational</th>\n",
              "      <th>cured</th>\n",
              "      <th>deaths</th>\n",
              "      <th>total confirmed</th>\n",
              "    </tr>\n",
              "  </thead>\n",
              "  <tbody>\n",
              "    <tr>\n",
              "      <th>0</th>\n",
              "      <td>1</td>\n",
              "      <td>2020-01-30</td>\n",
              "      <td>6:00 PM</td>\n",
              "      <td>Kerala</td>\n",
              "      <td>1</td>\n",
              "      <td>0</td>\n",
              "      <td>0</td>\n",
              "      <td>0</td>\n",
              "      <td>1</td>\n",
              "    </tr>\n",
              "    <tr>\n",
              "      <th>1</th>\n",
              "      <td>2</td>\n",
              "      <td>2020-01-31</td>\n",
              "      <td>6:00 PM</td>\n",
              "      <td>Kerala</td>\n",
              "      <td>1</td>\n",
              "      <td>0</td>\n",
              "      <td>0</td>\n",
              "      <td>0</td>\n",
              "      <td>1</td>\n",
              "    </tr>\n",
              "    <tr>\n",
              "      <th>2</th>\n",
              "      <td>3</td>\n",
              "      <td>2020-02-01</td>\n",
              "      <td>6:00 PM</td>\n",
              "      <td>Kerala</td>\n",
              "      <td>2</td>\n",
              "      <td>0</td>\n",
              "      <td>0</td>\n",
              "      <td>0</td>\n",
              "      <td>2</td>\n",
              "    </tr>\n",
              "    <tr>\n",
              "      <th>3</th>\n",
              "      <td>4</td>\n",
              "      <td>2020-02-02</td>\n",
              "      <td>6:00 PM</td>\n",
              "      <td>Kerala</td>\n",
              "      <td>3</td>\n",
              "      <td>0</td>\n",
              "      <td>0</td>\n",
              "      <td>0</td>\n",
              "      <td>3</td>\n",
              "    </tr>\n",
              "    <tr>\n",
              "      <th>4</th>\n",
              "      <td>5</td>\n",
              "      <td>2020-02-03</td>\n",
              "      <td>6:00 PM</td>\n",
              "      <td>Kerala</td>\n",
              "      <td>3</td>\n",
              "      <td>0</td>\n",
              "      <td>0</td>\n",
              "      <td>0</td>\n",
              "      <td>3</td>\n",
              "    </tr>\n",
              "  </tbody>\n",
              "</table>\n",
              "</div>"
            ],
            "text/plain": [
              "   sno        date last_update  ... cured deaths total confirmed\n",
              "0    1  2020-01-30     6:00 PM  ...     0      0               1\n",
              "1    2  2020-01-31     6:00 PM  ...     0      0               1\n",
              "2    3  2020-02-01     6:00 PM  ...     0      0               2\n",
              "3    4  2020-02-02     6:00 PM  ...     0      0               3\n",
              "4    5  2020-02-03     6:00 PM  ...     0      0               3\n",
              "\n",
              "[5 rows x 9 columns]"
            ]
          },
          "metadata": {},
          "execution_count": 7
        }
      ]
    },
    {
      "cell_type": "code",
      "metadata": {
        "id": "AnKzALcHu_8M",
        "colab": {
          "base_uri": "https://localhost:8080/",
          "height": 173
        },
        "outputId": "9ee40e6a-d1a3-4a33-f319-22c4e6759126"
      },
      "source": [
        "df.corr()"
      ],
      "execution_count": null,
      "outputs": [
        {
          "output_type": "execute_result",
          "data": {
            "text/html": [
              "<div>\n",
              "<style scoped>\n",
              "    .dataframe tbody tr th:only-of-type {\n",
              "        vertical-align: middle;\n",
              "    }\n",
              "\n",
              "    .dataframe tbody tr th {\n",
              "        vertical-align: top;\n",
              "    }\n",
              "\n",
              "    .dataframe thead th {\n",
              "        text-align: right;\n",
              "    }\n",
              "</style>\n",
              "<table border=\"1\" class=\"dataframe\">\n",
              "  <thead>\n",
              "    <tr style=\"text-align: right;\">\n",
              "      <th></th>\n",
              "      <th>sno</th>\n",
              "      <th>cured</th>\n",
              "      <th>deaths</th>\n",
              "      <th>total confirmed</th>\n",
              "    </tr>\n",
              "  </thead>\n",
              "  <tbody>\n",
              "    <tr>\n",
              "      <th>sno</th>\n",
              "      <td>1.000000</td>\n",
              "      <td>0.408482</td>\n",
              "      <td>0.301742</td>\n",
              "      <td>0.403012</td>\n",
              "    </tr>\n",
              "    <tr>\n",
              "      <th>cured</th>\n",
              "      <td>0.408482</td>\n",
              "      <td>1.000000</td>\n",
              "      <td>0.917529</td>\n",
              "      <td>0.997751</td>\n",
              "    </tr>\n",
              "    <tr>\n",
              "      <th>deaths</th>\n",
              "      <td>0.301742</td>\n",
              "      <td>0.917529</td>\n",
              "      <td>1.000000</td>\n",
              "      <td>0.918346</td>\n",
              "    </tr>\n",
              "    <tr>\n",
              "      <th>total confirmed</th>\n",
              "      <td>0.403012</td>\n",
              "      <td>0.997751</td>\n",
              "      <td>0.918346</td>\n",
              "      <td>1.000000</td>\n",
              "    </tr>\n",
              "  </tbody>\n",
              "</table>\n",
              "</div>"
            ],
            "text/plain": [
              "                      sno     cured    deaths  total confirmed\n",
              "sno              1.000000  0.408482  0.301742         0.403012\n",
              "cured            0.408482  1.000000  0.917529         0.997751\n",
              "deaths           0.301742  0.917529  1.000000         0.918346\n",
              "total confirmed  0.403012  0.997751  0.918346         1.000000"
            ]
          },
          "metadata": {},
          "execution_count": 8
        }
      ]
    },
    {
      "cell_type": "code",
      "metadata": {
        "id": "VffbN9sB1_M8"
      },
      "source": [
        "df['date']=pd.to_datetime(df['date'])"
      ],
      "execution_count": null,
      "outputs": []
    },
    {
      "cell_type": "code",
      "metadata": {
        "id": "RADM7IYJzFMu",
        "colab": {
          "base_uri": "https://localhost:8080/",
          "height": 419
        },
        "outputId": "000e611e-9957-4db6-e7a2-fca4cb027d64"
      },
      "source": [
        "\n",
        "df['infected_days']=(df['date']-df['date'].min()).dt.days\n",
        "df\n",
        "\n"
      ],
      "execution_count": null,
      "outputs": [
        {
          "output_type": "execute_result",
          "data": {
            "text/html": [
              "<div>\n",
              "<style scoped>\n",
              "    .dataframe tbody tr th:only-of-type {\n",
              "        vertical-align: middle;\n",
              "    }\n",
              "\n",
              "    .dataframe tbody tr th {\n",
              "        vertical-align: top;\n",
              "    }\n",
              "\n",
              "    .dataframe thead th {\n",
              "        text-align: right;\n",
              "    }\n",
              "</style>\n",
              "<table border=\"1\" class=\"dataframe\">\n",
              "  <thead>\n",
              "    <tr style=\"text-align: right;\">\n",
              "      <th></th>\n",
              "      <th>sno</th>\n",
              "      <th>date</th>\n",
              "      <th>last_update</th>\n",
              "      <th>state/ut</th>\n",
              "      <th>confirmedindiannational</th>\n",
              "      <th>confirmedforeignnational</th>\n",
              "      <th>cured</th>\n",
              "      <th>deaths</th>\n",
              "      <th>total confirmed</th>\n",
              "      <th>infected_days</th>\n",
              "    </tr>\n",
              "  </thead>\n",
              "  <tbody>\n",
              "    <tr>\n",
              "      <th>0</th>\n",
              "      <td>1</td>\n",
              "      <td>2020-01-30</td>\n",
              "      <td>6:00 PM</td>\n",
              "      <td>Kerala</td>\n",
              "      <td>1</td>\n",
              "      <td>0</td>\n",
              "      <td>0</td>\n",
              "      <td>0</td>\n",
              "      <td>1</td>\n",
              "      <td>0</td>\n",
              "    </tr>\n",
              "    <tr>\n",
              "      <th>1</th>\n",
              "      <td>2</td>\n",
              "      <td>2020-01-31</td>\n",
              "      <td>6:00 PM</td>\n",
              "      <td>Kerala</td>\n",
              "      <td>1</td>\n",
              "      <td>0</td>\n",
              "      <td>0</td>\n",
              "      <td>0</td>\n",
              "      <td>1</td>\n",
              "      <td>1</td>\n",
              "    </tr>\n",
              "    <tr>\n",
              "      <th>2</th>\n",
              "      <td>3</td>\n",
              "      <td>2020-02-01</td>\n",
              "      <td>6:00 PM</td>\n",
              "      <td>Kerala</td>\n",
              "      <td>2</td>\n",
              "      <td>0</td>\n",
              "      <td>0</td>\n",
              "      <td>0</td>\n",
              "      <td>2</td>\n",
              "      <td>2</td>\n",
              "    </tr>\n",
              "    <tr>\n",
              "      <th>3</th>\n",
              "      <td>4</td>\n",
              "      <td>2020-02-02</td>\n",
              "      <td>6:00 PM</td>\n",
              "      <td>Kerala</td>\n",
              "      <td>3</td>\n",
              "      <td>0</td>\n",
              "      <td>0</td>\n",
              "      <td>0</td>\n",
              "      <td>3</td>\n",
              "      <td>3</td>\n",
              "    </tr>\n",
              "    <tr>\n",
              "      <th>4</th>\n",
              "      <td>5</td>\n",
              "      <td>2020-02-03</td>\n",
              "      <td>6:00 PM</td>\n",
              "      <td>Kerala</td>\n",
              "      <td>3</td>\n",
              "      <td>0</td>\n",
              "      <td>0</td>\n",
              "      <td>0</td>\n",
              "      <td>3</td>\n",
              "      <td>4</td>\n",
              "    </tr>\n",
              "    <tr>\n",
              "      <th>...</th>\n",
              "      <td>...</td>\n",
              "      <td>...</td>\n",
              "      <td>...</td>\n",
              "      <td>...</td>\n",
              "      <td>...</td>\n",
              "      <td>...</td>\n",
              "      <td>...</td>\n",
              "      <td>...</td>\n",
              "      <td>...</td>\n",
              "      <td>...</td>\n",
              "    </tr>\n",
              "    <tr>\n",
              "      <th>18105</th>\n",
              "      <td>18106</td>\n",
              "      <td>2021-08-11</td>\n",
              "      <td>8:00 AM</td>\n",
              "      <td>Telangana</td>\n",
              "      <td>-</td>\n",
              "      <td>-</td>\n",
              "      <td>638410</td>\n",
              "      <td>3831</td>\n",
              "      <td>650353</td>\n",
              "      <td>559</td>\n",
              "    </tr>\n",
              "    <tr>\n",
              "      <th>18106</th>\n",
              "      <td>18107</td>\n",
              "      <td>2021-08-11</td>\n",
              "      <td>8:00 AM</td>\n",
              "      <td>Tripura</td>\n",
              "      <td>-</td>\n",
              "      <td>-</td>\n",
              "      <td>77811</td>\n",
              "      <td>773</td>\n",
              "      <td>80660</td>\n",
              "      <td>559</td>\n",
              "    </tr>\n",
              "    <tr>\n",
              "      <th>18107</th>\n",
              "      <td>18108</td>\n",
              "      <td>2021-08-11</td>\n",
              "      <td>8:00 AM</td>\n",
              "      <td>Uttarakhand</td>\n",
              "      <td>-</td>\n",
              "      <td>-</td>\n",
              "      <td>334650</td>\n",
              "      <td>7368</td>\n",
              "      <td>342462</td>\n",
              "      <td>559</td>\n",
              "    </tr>\n",
              "    <tr>\n",
              "      <th>18108</th>\n",
              "      <td>18109</td>\n",
              "      <td>2021-08-11</td>\n",
              "      <td>8:00 AM</td>\n",
              "      <td>Uttar Pradesh</td>\n",
              "      <td>-</td>\n",
              "      <td>-</td>\n",
              "      <td>1685492</td>\n",
              "      <td>22775</td>\n",
              "      <td>1708812</td>\n",
              "      <td>559</td>\n",
              "    </tr>\n",
              "    <tr>\n",
              "      <th>18109</th>\n",
              "      <td>18110</td>\n",
              "      <td>2021-08-11</td>\n",
              "      <td>8:00 AM</td>\n",
              "      <td>West Bengal</td>\n",
              "      <td>-</td>\n",
              "      <td>-</td>\n",
              "      <td>1506532</td>\n",
              "      <td>18252</td>\n",
              "      <td>1534999</td>\n",
              "      <td>559</td>\n",
              "    </tr>\n",
              "  </tbody>\n",
              "</table>\n",
              "<p>18110 rows × 10 columns</p>\n",
              "</div>"
            ],
            "text/plain": [
              "         sno       date last_update  ... deaths total confirmed infected_days\n",
              "0          1 2020-01-30     6:00 PM  ...      0               1             0\n",
              "1          2 2020-01-31     6:00 PM  ...      0               1             1\n",
              "2          3 2020-02-01     6:00 PM  ...      0               2             2\n",
              "3          4 2020-02-02     6:00 PM  ...      0               3             3\n",
              "4          5 2020-02-03     6:00 PM  ...      0               3             4\n",
              "...      ...        ...         ...  ...    ...             ...           ...\n",
              "18105  18106 2021-08-11     8:00 AM  ...   3831          650353           559\n",
              "18106  18107 2021-08-11     8:00 AM  ...    773           80660           559\n",
              "18107  18108 2021-08-11     8:00 AM  ...   7368          342462           559\n",
              "18108  18109 2021-08-11     8:00 AM  ...  22775         1708812           559\n",
              "18109  18110 2021-08-11     8:00 AM  ...  18252         1534999           559\n",
              "\n",
              "[18110 rows x 10 columns]"
            ]
          },
          "metadata": {},
          "execution_count": 10
        }
      ]
    },
    {
      "cell_type": "code",
      "metadata": {
        "id": "e81PxQw31NJg",
        "colab": {
          "base_uri": "https://localhost:8080/"
        },
        "outputId": "6898ebec-e0cb-4dae-8bc7-5b19c4bf5f7f"
      },
      "source": [
        "df.info()"
      ],
      "execution_count": null,
      "outputs": [
        {
          "output_type": "stream",
          "name": "stdout",
          "text": [
            "<class 'pandas.core.frame.DataFrame'>\n",
            "RangeIndex: 18110 entries, 0 to 18109\n",
            "Data columns (total 10 columns):\n",
            " #   Column                    Non-Null Count  Dtype         \n",
            "---  ------                    --------------  -----         \n",
            " 0   sno                       18110 non-null  int64         \n",
            " 1   date                      18110 non-null  datetime64[ns]\n",
            " 2   last_update               18110 non-null  object        \n",
            " 3   state/ut                  18110 non-null  object        \n",
            " 4   confirmedindiannational   18110 non-null  object        \n",
            " 5   confirmedforeignnational  18110 non-null  object        \n",
            " 6   cured                     18110 non-null  int64         \n",
            " 7   deaths                    18110 non-null  int64         \n",
            " 8   total confirmed           18110 non-null  int64         \n",
            " 9   infected_days             18110 non-null  int64         \n",
            "dtypes: datetime64[ns](1), int64(5), object(4)\n",
            "memory usage: 1.4+ MB\n"
          ]
        }
      ]
    },
    {
      "cell_type": "code",
      "metadata": {
        "id": "naQwO3ld1WL8",
        "colab": {
          "base_uri": "https://localhost:8080/",
          "height": 204
        },
        "outputId": "731c1253-ea47-4922-c8e1-4051677f8c6d"
      },
      "source": [
        "df.corr()"
      ],
      "execution_count": null,
      "outputs": [
        {
          "output_type": "execute_result",
          "data": {
            "text/html": [
              "<div>\n",
              "<style scoped>\n",
              "    .dataframe tbody tr th:only-of-type {\n",
              "        vertical-align: middle;\n",
              "    }\n",
              "\n",
              "    .dataframe tbody tr th {\n",
              "        vertical-align: top;\n",
              "    }\n",
              "\n",
              "    .dataframe thead th {\n",
              "        text-align: right;\n",
              "    }\n",
              "</style>\n",
              "<table border=\"1\" class=\"dataframe\">\n",
              "  <thead>\n",
              "    <tr style=\"text-align: right;\">\n",
              "      <th></th>\n",
              "      <th>sno</th>\n",
              "      <th>cured</th>\n",
              "      <th>deaths</th>\n",
              "      <th>total confirmed</th>\n",
              "      <th>infected_days</th>\n",
              "    </tr>\n",
              "  </thead>\n",
              "  <tbody>\n",
              "    <tr>\n",
              "      <th>sno</th>\n",
              "      <td>1.000000</td>\n",
              "      <td>0.408482</td>\n",
              "      <td>0.301742</td>\n",
              "      <td>0.403012</td>\n",
              "      <td>0.999870</td>\n",
              "    </tr>\n",
              "    <tr>\n",
              "      <th>cured</th>\n",
              "      <td>0.408482</td>\n",
              "      <td>1.000000</td>\n",
              "      <td>0.917529</td>\n",
              "      <td>0.997751</td>\n",
              "      <td>0.407147</td>\n",
              "    </tr>\n",
              "    <tr>\n",
              "      <th>deaths</th>\n",
              "      <td>0.301742</td>\n",
              "      <td>0.917529</td>\n",
              "      <td>1.000000</td>\n",
              "      <td>0.918346</td>\n",
              "      <td>0.300848</td>\n",
              "    </tr>\n",
              "    <tr>\n",
              "      <th>total confirmed</th>\n",
              "      <td>0.403012</td>\n",
              "      <td>0.997751</td>\n",
              "      <td>0.918346</td>\n",
              "      <td>1.000000</td>\n",
              "      <td>0.401728</td>\n",
              "    </tr>\n",
              "    <tr>\n",
              "      <th>infected_days</th>\n",
              "      <td>0.999870</td>\n",
              "      <td>0.407147</td>\n",
              "      <td>0.300848</td>\n",
              "      <td>0.401728</td>\n",
              "      <td>1.000000</td>\n",
              "    </tr>\n",
              "  </tbody>\n",
              "</table>\n",
              "</div>"
            ],
            "text/plain": [
              "                      sno     cured    deaths  total confirmed  infected_days\n",
              "sno              1.000000  0.408482  0.301742         0.403012       0.999870\n",
              "cured            0.408482  1.000000  0.917529         0.997751       0.407147\n",
              "deaths           0.301742  0.917529  1.000000         0.918346       0.300848\n",
              "total confirmed  0.403012  0.997751  0.918346         1.000000       0.401728\n",
              "infected_days    0.999870  0.407147  0.300848         0.401728       1.000000"
            ]
          },
          "metadata": {},
          "execution_count": 12
        }
      ]
    },
    {
      "cell_type": "code",
      "metadata": {
        "id": "l8-zGAvxgNjq",
        "colab": {
          "base_uri": "https://localhost:8080/",
          "height": 1000
        },
        "outputId": "322d3346-9435-4382-ab92-ab089a4edace"
      },
      "source": [
        "plt.figure(figsize=(15,15))\n",
        "plt.bar(df[\"state/ut\"],df[\"total confirmed\"],color='c')\n",
        "plt.ylabel('Total Confirmed Cases')\n",
        "plt.title('TOTAL NUMBER OF CASES IN EACH STATE')\n",
        "plt.xlabel('State/Ut')\n",
        "plt.xticks(rotation=90)\n",
        "\n"
      ],
      "execution_count": null,
      "outputs": [
        {
          "output_type": "execute_result",
          "data": {
            "text/plain": [
              "([0,\n",
              "  1,\n",
              "  2,\n",
              "  3,\n",
              "  4,\n",
              "  5,\n",
              "  6,\n",
              "  7,\n",
              "  8,\n",
              "  9,\n",
              "  10,\n",
              "  11,\n",
              "  12,\n",
              "  13,\n",
              "  14,\n",
              "  15,\n",
              "  16,\n",
              "  17,\n",
              "  18,\n",
              "  19,\n",
              "  20,\n",
              "  21,\n",
              "  22,\n",
              "  23,\n",
              "  24,\n",
              "  25,\n",
              "  26,\n",
              "  27,\n",
              "  28,\n",
              "  29,\n",
              "  30,\n",
              "  31,\n",
              "  32,\n",
              "  33,\n",
              "  34,\n",
              "  35,\n",
              "  36,\n",
              "  37,\n",
              "  38,\n",
              "  39,\n",
              "  40,\n",
              "  41,\n",
              "  42,\n",
              "  43,\n",
              "  44,\n",
              "  45],\n",
              " <a list of 46 Text major ticklabel objects>)"
            ]
          },
          "metadata": {},
          "execution_count": 13
        },
        {
          "output_type": "display_data",
          "data": {
            "image/png": "[encoded data removed]",
            "text/plain": [
              "<Figure size 1080x1080 with 1 Axes>"
            ]
          },
          "metadata": {
            "needs_background": "light"
          }
        }
      ]
    },
    {
      "cell_type": "code",
      "metadata": {
        "id": "JywqSu6DjxR6",
        "colab": {
          "base_uri": "https://localhost:8080/",
          "height": 419
        },
        "outputId": "0b7cf35d-c041-4084-dd04-9f4f45dbb598"
      },
      "source": [
        " from sklearn.preprocessing import LabelEncoder\n",
        "le = LabelEncoder()\n",
        "df[\"state/ut\"] = le.fit_transform(df[\"state/ut\"])\n",
        "df[\"last_update\"] = le.fit_transform(df[\"last_update\"])\n",
        "df\n"
      ],
      "execution_count": null,
      "outputs": [
        {
          "output_type": "execute_result",
          "data": {
            "text/html": [
              "<div>\n",
              "<style scoped>\n",
              "    .dataframe tbody tr th:only-of-type {\n",
              "        vertical-align: middle;\n",
              "    }\n",
              "\n",
              "    .dataframe tbody tr th {\n",
              "        vertical-align: top;\n",
              "    }\n",
              "\n",
              "    .dataframe thead th {\n",
              "        text-align: right;\n",
              "    }\n",
              "</style>\n",
              "<table border=\"1\" class=\"dataframe\">\n",
              "  <thead>\n",
              "    <tr style=\"text-align: right;\">\n",
              "      <th></th>\n",
              "      <th>sno</th>\n",
              "      <th>date</th>\n",
              "      <th>last_update</th>\n",
              "      <th>state/ut</th>\n",
              "      <th>confirmedindiannational</th>\n",
              "      <th>confirmedforeignnational</th>\n",
              "      <th>cured</th>\n",
              "      <th>deaths</th>\n",
              "      <th>total confirmed</th>\n",
              "      <th>infected_days</th>\n",
              "    </tr>\n",
              "  </thead>\n",
              "  <tbody>\n",
              "    <tr>\n",
              "      <th>0</th>\n",
              "      <td>1</td>\n",
              "      <td>2020-01-30</td>\n",
              "      <td>2</td>\n",
              "      <td>22</td>\n",
              "      <td>1</td>\n",
              "      <td>0</td>\n",
              "      <td>0</td>\n",
              "      <td>0</td>\n",
              "      <td>1</td>\n",
              "      <td>0</td>\n",
              "    </tr>\n",
              "    <tr>\n",
              "      <th>1</th>\n",
              "      <td>2</td>\n",
              "      <td>2020-01-31</td>\n",
              "      <td>2</td>\n",
              "      <td>22</td>\n",
              "      <td>1</td>\n",
              "      <td>0</td>\n",
              "      <td>0</td>\n",
              "      <td>0</td>\n",
              "      <td>1</td>\n",
              "      <td>1</td>\n",
              "    </tr>\n",
              "    <tr>\n",
              "      <th>2</th>\n",
              "      <td>3</td>\n",
              "      <td>2020-02-01</td>\n",
              "      <td>2</td>\n",
              "      <td>22</td>\n",
              "      <td>2</td>\n",
              "      <td>0</td>\n",
              "      <td>0</td>\n",
              "      <td>0</td>\n",
              "      <td>2</td>\n",
              "      <td>2</td>\n",
              "    </tr>\n",
              "    <tr>\n",
              "      <th>3</th>\n",
              "      <td>4</td>\n",
              "      <td>2020-02-02</td>\n",
              "      <td>2</td>\n",
              "      <td>22</td>\n",
              "      <td>3</td>\n",
              "      <td>0</td>\n",
              "      <td>0</td>\n",
              "      <td>0</td>\n",
              "      <td>3</td>\n",
              "      <td>3</td>\n",
              "    </tr>\n",
              "    <tr>\n",
              "      <th>4</th>\n",
              "      <td>5</td>\n",
              "      <td>2020-02-03</td>\n",
              "      <td>2</td>\n",
              "      <td>22</td>\n",
              "      <td>3</td>\n",
              "      <td>0</td>\n",
              "      <td>0</td>\n",
              "      <td>0</td>\n",
              "      <td>3</td>\n",
              "      <td>4</td>\n",
              "    </tr>\n",
              "    <tr>\n",
              "      <th>...</th>\n",
              "      <td>...</td>\n",
              "      <td>...</td>\n",
              "      <td>...</td>\n",
              "      <td>...</td>\n",
              "      <td>...</td>\n",
              "      <td>...</td>\n",
              "      <td>...</td>\n",
              "      <td>...</td>\n",
              "      <td>...</td>\n",
              "      <td>...</td>\n",
              "    </tr>\n",
              "    <tr>\n",
              "      <th>18105</th>\n",
              "      <td>18106</td>\n",
              "      <td>2021-08-11</td>\n",
              "      <td>4</td>\n",
              "      <td>39</td>\n",
              "      <td>-</td>\n",
              "      <td>-</td>\n",
              "      <td>638410</td>\n",
              "      <td>3831</td>\n",
              "      <td>650353</td>\n",
              "      <td>559</td>\n",
              "    </tr>\n",
              "    <tr>\n",
              "      <th>18106</th>\n",
              "      <td>18107</td>\n",
              "      <td>2021-08-11</td>\n",
              "      <td>4</td>\n",
              "      <td>41</td>\n",
              "      <td>-</td>\n",
              "      <td>-</td>\n",
              "      <td>77811</td>\n",
              "      <td>773</td>\n",
              "      <td>80660</td>\n",
              "      <td>559</td>\n",
              "    </tr>\n",
              "    <tr>\n",
              "      <th>18107</th>\n",
              "      <td>18108</td>\n",
              "      <td>2021-08-11</td>\n",
              "      <td>4</td>\n",
              "      <td>44</td>\n",
              "      <td>-</td>\n",
              "      <td>-</td>\n",
              "      <td>334650</td>\n",
              "      <td>7368</td>\n",
              "      <td>342462</td>\n",
              "      <td>559</td>\n",
              "    </tr>\n",
              "    <tr>\n",
              "      <th>18108</th>\n",
              "      <td>18109</td>\n",
              "      <td>2021-08-11</td>\n",
              "      <td>4</td>\n",
              "      <td>43</td>\n",
              "      <td>-</td>\n",
              "      <td>-</td>\n",
              "      <td>1685492</td>\n",
              "      <td>22775</td>\n",
              "      <td>1708812</td>\n",
              "      <td>559</td>\n",
              "    </tr>\n",
              "    <tr>\n",
              "      <th>18109</th>\n",
              "      <td>18110</td>\n",
              "      <td>2021-08-11</td>\n",
              "      <td>4</td>\n",
              "      <td>45</td>\n",
              "      <td>-</td>\n",
              "      <td>-</td>\n",
              "      <td>1506532</td>\n",
              "      <td>18252</td>\n",
              "      <td>1534999</td>\n",
              "      <td>559</td>\n",
              "    </tr>\n",
              "  </tbody>\n",
              "</table>\n",
              "<p>18110 rows × 10 columns</p>\n",
              "</div>"
            ],
            "text/plain": [
              "         sno       date  last_update  ...  deaths total confirmed infected_days\n",
              "0          1 2020-01-30            2  ...       0               1             0\n",
              "1          2 2020-01-31            2  ...       0               1             1\n",
              "2          3 2020-02-01            2  ...       0               2             2\n",
              "3          4 2020-02-02            2  ...       0               3             3\n",
              "4          5 2020-02-03            2  ...       0               3             4\n",
              "...      ...        ...          ...  ...     ...             ...           ...\n",
              "18105  18106 2021-08-11            4  ...    3831          650353           559\n",
              "18106  18107 2021-08-11            4  ...     773           80660           559\n",
              "18107  18108 2021-08-11            4  ...    7368          342462           559\n",
              "18108  18109 2021-08-11            4  ...   22775         1708812           559\n",
              "18109  18110 2021-08-11            4  ...   18252         1534999           559\n",
              "\n",
              "[18110 rows x 10 columns]"
            ]
          },
          "metadata": {},
          "execution_count": 14
        }
      ]
    },
    {
      "cell_type": "code",
      "metadata": {
        "id": "lbBj2CtXokKT"
      },
      "source": [
        "df=df.drop(['sno','confirmedindiannational','confirmedforeignnational'],axis=1)"
      ],
      "execution_count": null,
      "outputs": []
    },
    {
      "cell_type": "code",
      "metadata": {
        "id": "xzQcoEIXpqzY"
      },
      "source": [
        " from sklearn.model_selection import train_test_split"
      ],
      "execution_count": null,
      "outputs": []
    },
    {
      "cell_type": "code",
      "metadata": {
        "id": "UedYcCNQ2xwV"
      },
      "source": [
        "x=df['total confirmed'].values.reshape(-1,1)\n",
        "y=df['deaths'].values.reshape(-1,1)\n"
      ],
      "execution_count": null,
      "outputs": []
    },
    {
      "cell_type": "code",
      "metadata": {
        "id": "1rfwMYG3sWh1"
      },
      "source": [
        "x_train,x_test,y_train,y_test= train_test_split(x,y,test_size=0.2,random_state=1)  "
      ],
      "execution_count": null,
      "outputs": []
    },
    {
      "cell_type": "code",
      "metadata": {
        "id": "ZNqM3n-n5Dh1"
      },
      "source": [
        "from sklearn.linear_model import LinearRegression"
      ],
      "execution_count": null,
      "outputs": []
    },
    {
      "cell_type": "code",
      "metadata": {
        "id": "mU7J9hiz2XbD",
        "colab": {
          "base_uri": "https://localhost:8080/"
        },
        "outputId": "f65befa0-fbb0-4053-e77f-9ab61eadfdd0"
      },
      "source": [
        "model=LinearRegression()\n",
        "model.fit(x_train,y_train)"
      ],
      "execution_count": null,
      "outputs": [
        {
          "output_type": "execute_result",
          "data": {
            "text/plain": [
              "LinearRegression(copy_X=True, fit_intercept=True, n_jobs=None, normalize=False)"
            ]
          },
          "metadata": {},
          "execution_count": 20
        }
      ]
    },
    {
      "cell_type": "code",
      "metadata": {
        "id": "84DwiOeg4ztu"
      },
      "source": [
        "y_pred=model.predict(x_test)"
      ],
      "execution_count": null,
      "outputs": []
    },
    {
      "cell_type": "code",
      "metadata": {
        "id": "yFyFLjiv5nVa",
        "colab": {
          "base_uri": "https://localhost:8080/",
          "height": 281
        },
        "outputId": "a93c8e31-c6d4-4ac2-d785-6ae30bc69f80"
      },
      "source": [
        "plt.scatter(x_train,y_train)\n",
        "plt.plot(x_test,y_pred,color=\"red\")\n",
        "plt.show()"
      ],
      "execution_count": null,
      "outputs": [
        {
          "output_type": "display_data",
          "data": {
            "image/png": "[encoded data removed]",
            "text/plain": [
              "<Figure size 432x288 with 1 Axes>"
            ]
          },
          "metadata": {
            "needs_background": "light"
          }
        }
      ]
    },
    {
      "cell_type": "code",
      "metadata": {
        "id": "qJeCIF5l6wOG",
        "colab": {
          "base_uri": "https://localhost:8080/",
          "height": 419
        },
        "outputId": "4d1115ce-5aaa-4201-f5ed-b85145ac5ad3"
      },
      "source": [
        "df=pd.DataFrame({'Actual':y_test.flatten(),'Predicted':y_pred.flatten()})\n",
        "df"
      ],
      "execution_count": null,
      "outputs": [
        {
          "output_type": "execute_result",
          "data": {
            "text/html": [
              "<div>\n",
              "<style scoped>\n",
              "    .dataframe tbody tr th:only-of-type {\n",
              "        vertical-align: middle;\n",
              "    }\n",
              "\n",
              "    .dataframe tbody tr th {\n",
              "        vertical-align: top;\n",
              "    }\n",
              "\n",
              "    .dataframe thead th {\n",
              "        text-align: right;\n",
              "    }\n",
              "</style>\n",
              "<table border=\"1\" class=\"dataframe\">\n",
              "  <thead>\n",
              "    <tr style=\"text-align: right;\">\n",
              "      <th></th>\n",
              "      <th>Actual</th>\n",
              "      <th>Predicted</th>\n",
              "    </tr>\n",
              "  </thead>\n",
              "  <tbody>\n",
              "    <tr>\n",
              "      <th>0</th>\n",
              "      <td>41196</td>\n",
              "      <td>23208.197765</td>\n",
              "    </tr>\n",
              "    <tr>\n",
              "      <th>1</th>\n",
              "      <td>79</td>\n",
              "      <td>-368.006945</td>\n",
              "    </tr>\n",
              "    <tr>\n",
              "      <th>2</th>\n",
              "      <td>356</td>\n",
              "      <td>-71.840255</td>\n",
              "    </tr>\n",
              "    <tr>\n",
              "      <th>3</th>\n",
              "      <td>69615</td>\n",
              "      <td>70296.332710</td>\n",
              "    </tr>\n",
              "    <tr>\n",
              "      <th>4</th>\n",
              "      <td>10076</td>\n",
              "      <td>11970.444637</td>\n",
              "    </tr>\n",
              "    <tr>\n",
              "      <th>...</th>\n",
              "      <td>...</td>\n",
              "      <td>...</td>\n",
              "    </tr>\n",
              "    <tr>\n",
              "      <th>3617</th>\n",
              "      <td>1094</td>\n",
              "      <td>2756.175825</td>\n",
              "    </tr>\n",
              "    <tr>\n",
              "      <th>3618</th>\n",
              "      <td>767</td>\n",
              "      <td>812.909331</td>\n",
              "    </tr>\n",
              "    <tr>\n",
              "      <th>3619</th>\n",
              "      <td>4171</td>\n",
              "      <td>2908.032429</td>\n",
              "    </tr>\n",
              "    <tr>\n",
              "      <th>3620</th>\n",
              "      <td>48</td>\n",
              "      <td>-499.061274</td>\n",
              "    </tr>\n",
              "    <tr>\n",
              "      <th>3621</th>\n",
              "      <td>8</td>\n",
              "      <td>-470.484719</td>\n",
              "    </tr>\n",
              "  </tbody>\n",
              "</table>\n",
              "<p>3622 rows × 2 columns</p>\n",
              "</div>"
            ],
            "text/plain": [
              "      Actual     Predicted\n",
              "0      41196  23208.197765\n",
              "1         79   -368.006945\n",
              "2        356    -71.840255\n",
              "3      69615  70296.332710\n",
              "4      10076  11970.444637\n",
              "...      ...           ...\n",
              "3617    1094   2756.175825\n",
              "3618     767    812.909331\n",
              "3619    4171   2908.032429\n",
              "3620      48   -499.061274\n",
              "3621       8   -470.484719\n",
              "\n",
              "[3622 rows x 2 columns]"
            ]
          },
          "metadata": {},
          "execution_count": 23
        }
      ]
    },
    {
      "cell_type": "code",
      "metadata": {
        "id": "1kd7d5t2Qc4e",
        "colab": {
          "base_uri": "https://localhost:8080/",
          "height": 982
        },
        "outputId": "0e70a759-921e-408a-92c8-c7c60fcd3701"
      },
      "source": [
        "pd.plotting.scatter_matrix(df,figsize=(15,15))"
      ],
      "execution_count": null,
      "outputs": [
        {
          "output_type": "execute_result",
          "data": {
            "text/plain": [
              "array([[<matplotlib.axes._subplots.AxesSubplot object at 0x7fb913585650>,\n",
              "        <matplotlib.axes._subplots.AxesSubplot object at 0x7fb9135b1050>],\n",
              "       [<matplotlib.axes._subplots.AxesSubplot object at 0x7fb913239050>,\n",
              "        <matplotlib.axes._subplots.AxesSubplot object at 0x7fb912fb60d0>]],\n",
              "      dtype=object)"
            ]
          },
          "metadata": {},
          "execution_count": 24
        },
        {
          "output_type": "display_data",
          "data": {
            "image/png": "[encoded data removed]",
            "text/plain": [
              "<Figure size 1080x1080 with 4 Axes>"
            ]
          },
          "metadata": {
            "needs_background": "light"
          }
        }
      ]
    },
    {
      "cell_type": "code",
      "metadata": {
        "id": "TVDdpr7yCbM6",
        "colab": {
          "base_uri": "https://localhost:8080/",
          "height": 588
        },
        "outputId": "26ed83a8-0b41-402a-ddc8-ab67cce3aafb"
      },
      "source": [
        "df=df.head(10)\n",
        "df.plot(kind='bar',figsize=(16,10))\n",
        "plt.grid(which='major', linestyle='-', linewidth='0.5', color='green')\n",
        "plt.grid(which='minor', linestyle=':', linewidth='0.5', color='black')\n",
        "plt.show()"
      ],
      "execution_count": null,
      "outputs": [
        {
          "output_type": "display_data",
          "data": {
            "image/png": "[encoded data removed]",
            "text/plain": [
              "<Figure size 1152x720 with 1 Axes>"
            ]
          },
          "metadata": {
            "needs_background": "light"
          }
        }
      ]
    },
    {
      "cell_type": "code",
      "metadata": {
        "id": "RQ1mG-1z7W95"
      },
      "source": [
        "from sklearn import metrics"
      ],
      "execution_count": null,
      "outputs": []
    },
    {
      "cell_type": "code",
      "metadata": {
        "id": "7HkxkGTm7NKt",
        "colab": {
          "base_uri": "https://localhost:8080/"
        },
        "outputId": "78659cde-e1be-4394-ee4f-362d9210c842"
      },
      "source": [
        "r2 = metrics.r2_score(y_test, y_pred)\n",
        "print('R^2:' , r2)"
      ],
      "execution_count": null,
      "outputs": [
        {
          "output_type": "stream",
          "name": "stdout",
          "text": [
            "R^2: 0.8518215636739426\n"
          ]
        }
      ]
    }
  ]
}